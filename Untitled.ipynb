{
 "cells": [
  {
   "cell_type": "code",
   "execution_count": 1,
   "metadata": {},
   "outputs": [],
   "source": [
    "#Yep, we're copying most of this. But at least I'm pretty sure I'm stealing the right things.\n",
    "import os\n",
    "from flask import (\n",
    "    Flask,\n",
    "    render_template,\n",
    "    jsonify,\n",
    "    request,\n",
    "    redirect)\n",
    "\n",
    "from flask_sqlalchemy import SQLAlchemy\n",
    "from sqlalchemy.ext.automap import automap_base\n",
    "from sqlalchemy.orm import Session\n",
    "from sqlalchemy import create_engine, func\n",
    "import pandas as pd\n",
    "import numpy as np\n",
    "\n",
    "\n",
    "\n",
    "\n",
    "\n"
   ]
  },
  {
   "cell_type": "code",
   "execution_count": 2,
   "metadata": {},
   "outputs": [],
   "source": [
    "\n",
    "\n",
    "#################################################\n",
    "# Flask Setup\n",
    "#################################################\n",
    "app = Flask(__name__)\n",
    "\n",
    "#################################################\n",
    "# Database Setup\n",
    "#################################################\n",
    "engine = create_engine(\"sqlite:///data/belly_button_biodiversity.sqlite\")\n",
    "\n",
    "Base = automap_base()\n",
    "Base.prepare(engine, reflect=True)\n",
    "# Save references to the table\n",
    "Otu = Base.classes.otu\n",
    "Samples = Base.classes.samples\n",
    "Samples_meta = Base.classes.samples_metadata\n"
   ]
  },
  {
   "cell_type": "code",
   "execution_count": 3,
   "metadata": {},
   "outputs": [],
   "source": [
    "session = Session(engine)"
   ]
  },
  {
   "cell_type": "code",
   "execution_count": 4,
   "metadata": {},
   "outputs": [],
   "source": [
    "#index\n",
    "@app.route(\"/\")\n",
    "def home():\n",
    "    return render_template(\"index.html\")"
   ]
  },
  {
   "cell_type": "code",
   "execution_count": 5,
   "metadata": {},
   "outputs": [],
   "source": [
    "#next we start creating apis\n",
    "\n",
    "@app.route('/names')\n",
    "def names():\n",
    "    results = db.session.query(Samples_meta.SAMPLEID).all()\n",
    "    print(results)\n",
    "    all_names = list(np.ravel(results))\n",
    "    return jsonify(all_names)\n",
    "    "
   ]
  },
  {
   "cell_type": "code",
   "execution_count": 18,
   "metadata": {},
   "outputs": [
    {
     "name": "stdout",
     "output_type": "stream",
     "text": [
      "[940, 941, 943, 944, 945, 946, 947, 948, 949, 950, 952, 953, 954, 955, 956, 958, 959, 960, 961, 962, 963, 964, 966, 967, 968, 969, 970, 971, 972, 973, 974, 975, 978, 1233, 1234, 1235, 1236, 1237, 1238, 1242, 1243, 1246, 1253, 1254, 1258, 1259, 1260, 1264, 1265, 1273, 1275, 1276, 1277, 1278, 1279, 1280, 1281, 1282, 1283, 1284, 1285, 1286, 1287, 1288, 1289, 1290, 1291, 1292, 1293, 1294, 1295, 1296, 1297, 1298, 1308, 1309, 1310, 1374, 1415, 1439, 1441, 1443, 1486, 1487, 1489, 1490, 1491, 1494, 1495, 1497, 1499, 1500, 1501, 1502, 1503, 1504, 1505, 1506, 1507, 1508, 1510, 1511, 1512, 1513, 1514, 1515, 1516, 1517, 1518, 1519, 1521, 1524, 1526, 1527, 1530, 1531, 1532, 1533, 1534, 1535, 1536, 1537, 1539, 1540, 1541, 1542, 1543, 1544, 1545, 1546, 1547, 1548, 1549, 1550, 1551, 1552, 1553, 1554, 1555, 1556, 1557, 1558, 1561, 1562, 1563, 1564, 1572, 1573, 1574, 1576, 1577, 1581, 1601]\n",
      "['BB_940', 'BB_941', 'BB_943', 'BB_944', 'BB_945', 'BB_946', 'BB_947', 'BB_948', 'BB_949', 'BB_950', 'BB_952', 'BB_953', 'BB_954', 'BB_955', 'BB_956', 'BB_958', 'BB_959', 'BB_960', 'BB_961', 'BB_962', 'BB_963', 'BB_964', 'BB_966', 'BB_967', 'BB_968', 'BB_969', 'BB_970', 'BB_971', 'BB_972', 'BB_973', 'BB_974', 'BB_975', 'BB_978', 'BB_1233', 'BB_1234', 'BB_1235', 'BB_1236', 'BB_1237', 'BB_1238', 'BB_1242', 'BB_1243', 'BB_1246', 'BB_1253', 'BB_1254', 'BB_1258', 'BB_1259', 'BB_1260', 'BB_1264', 'BB_1265', 'BB_1273', 'BB_1275', 'BB_1276', 'BB_1277', 'BB_1278', 'BB_1279', 'BB_1280', 'BB_1281', 'BB_1282', 'BB_1283', 'BB_1284', 'BB_1285', 'BB_1286', 'BB_1287', 'BB_1288', 'BB_1289', 'BB_1290', 'BB_1291', 'BB_1292', 'BB_1293', 'BB_1294', 'BB_1295', 'BB_1296', 'BB_1297', 'BB_1298', 'BB_1308', 'BB_1309', 'BB_1310', 'BB_1374', 'BB_1415', 'BB_1439', 'BB_1441', 'BB_1443', 'BB_1486', 'BB_1487', 'BB_1489', 'BB_1490', 'BB_1491', 'BB_1494', 'BB_1495', 'BB_1497', 'BB_1499', 'BB_1500', 'BB_1501', 'BB_1502', 'BB_1503', 'BB_1504', 'BB_1505', 'BB_1506', 'BB_1507', 'BB_1508', 'BB_1510', 'BB_1511', 'BB_1512', 'BB_1513', 'BB_1514', 'BB_1515', 'BB_1516', 'BB_1517', 'BB_1518', 'BB_1519', 'BB_1521', 'BB_1524', 'BB_1526', 'BB_1527', 'BB_1530', 'BB_1531', 'BB_1532', 'BB_1533', 'BB_1534', 'BB_1535', 'BB_1536', 'BB_1537', 'BB_1539', 'BB_1540', 'BB_1541', 'BB_1542', 'BB_1543', 'BB_1544', 'BB_1545', 'BB_1546', 'BB_1547', 'BB_1548', 'BB_1549', 'BB_1550', 'BB_1551', 'BB_1552', 'BB_1553', 'BB_1554', 'BB_1555', 'BB_1556', 'BB_1557', 'BB_1558', 'BB_1561', 'BB_1562', 'BB_1563', 'BB_1564', 'BB_1572', 'BB_1573', 'BB_1574', 'BB_1576', 'BB_1577', 'BB_1581', 'BB_1601']\n"
     ]
    }
   ],
   "source": [
    "results = session.query(Samples_meta.SAMPLEID).all()\n",
    "all_names = list(np.ravel(results))\n",
    "print(all_names)\n",
    "x=0\n",
    "for i in all_names:\n",
    "    all_names[x] = \"BB_\"+str(i)\n",
    "    x=x+1\n",
    "print(all_names)\n"
   ]
  },
  {
   "cell_type": "code",
   "execution_count": 16,
   "metadata": {},
   "outputs": [],
   "source": [
    "results=session.query(Samples_meta.SAMPLEID).all()"
   ]
  },
  {
   "cell_type": "code",
   "execution_count": 17,
   "metadata": {},
   "outputs": [
    {
     "data": {
      "text/plain": [
       "[940,\n",
       " 941,\n",
       " 943,\n",
       " 944,\n",
       " 945,\n",
       " 946,\n",
       " 947,\n",
       " 948,\n",
       " 949,\n",
       " 950,\n",
       " 952,\n",
       " 953,\n",
       " 954,\n",
       " 955,\n",
       " 956,\n",
       " 958,\n",
       " 959,\n",
       " 960,\n",
       " 961,\n",
       " 962,\n",
       " 963,\n",
       " 964,\n",
       " 966,\n",
       " 967,\n",
       " 968,\n",
       " 969,\n",
       " 970,\n",
       " 971,\n",
       " 972,\n",
       " 973,\n",
       " 974,\n",
       " 975,\n",
       " 978,\n",
       " 1233,\n",
       " 1234,\n",
       " 1235,\n",
       " 1236,\n",
       " 1237,\n",
       " 1238,\n",
       " 1242,\n",
       " 1243,\n",
       " 1246,\n",
       " 1253,\n",
       " 1254,\n",
       " 1258,\n",
       " 1259,\n",
       " 1260,\n",
       " 1264,\n",
       " 1265,\n",
       " 1273,\n",
       " 1275,\n",
       " 1276,\n",
       " 1277,\n",
       " 1278,\n",
       " 1279,\n",
       " 1280,\n",
       " 1281,\n",
       " 1282,\n",
       " 1283,\n",
       " 1284,\n",
       " 1285,\n",
       " 1286,\n",
       " 1287,\n",
       " 1288,\n",
       " 1289,\n",
       " 1290,\n",
       " 1291,\n",
       " 1292,\n",
       " 1293,\n",
       " 1294,\n",
       " 1295,\n",
       " 1296,\n",
       " 1297,\n",
       " 1298,\n",
       " 1308,\n",
       " 1309,\n",
       " 1310,\n",
       " 1374,\n",
       " 1415,\n",
       " 1439,\n",
       " 1441,\n",
       " 1443,\n",
       " 1486,\n",
       " 1487,\n",
       " 1489,\n",
       " 1490,\n",
       " 1491,\n",
       " 1494,\n",
       " 1495,\n",
       " 1497,\n",
       " 1499,\n",
       " 1500,\n",
       " 1501,\n",
       " 1502,\n",
       " 1503,\n",
       " 1504,\n",
       " 1505,\n",
       " 1506,\n",
       " 1507,\n",
       " 1508,\n",
       " 1510,\n",
       " 1511,\n",
       " 1512,\n",
       " 1513,\n",
       " 1514,\n",
       " 1515,\n",
       " 1516,\n",
       " 1517,\n",
       " 1518,\n",
       " 1519,\n",
       " 1521,\n",
       " 1524,\n",
       " 1526,\n",
       " 1527,\n",
       " 1530,\n",
       " 1531,\n",
       " 1532,\n",
       " 1533,\n",
       " 1534,\n",
       " 1535,\n",
       " 1536,\n",
       " 1537,\n",
       " 1539,\n",
       " 1540,\n",
       " 1541,\n",
       " 1542,\n",
       " 1543,\n",
       " 1544,\n",
       " 1545,\n",
       " 1546,\n",
       " 1547,\n",
       " 1548,\n",
       " 1549,\n",
       " 1550,\n",
       " 1551,\n",
       " 1552,\n",
       " 1553,\n",
       " 1554,\n",
       " 1555,\n",
       " 1556,\n",
       " 1557,\n",
       " 1558,\n",
       " 1561,\n",
       " 1562,\n",
       " 1563,\n",
       " 1564,\n",
       " 1572,\n",
       " 1573,\n",
       " 1574,\n",
       " 1576,\n",
       " 1577,\n",
       " 1581,\n",
       " 1601]"
      ]
     },
     "execution_count": 17,
     "metadata": {},
     "output_type": "execute_result"
    }
   ],
   "source": [
    "all_names = list(np.ravel(results))\n",
    "all_names"
   ]
  },
  {
   "cell_type": "code",
   "execution_count": 41,
   "metadata": {},
   "outputs": [
    {
     "name": "stdout",
     "output_type": "stream",
     "text": [
      "SELECT samples_metadata.\"SAMPLEID\" AS \"samples_metadata_SAMPLEID\", samples_metadata.\"EVENT\" AS \"samples_metadata_EVENT\", samples_metadata.\"ETHNICITY\" AS \"samples_metadata_ETHNICITY\", samples_metadata.\"GENDER\" AS \"samples_metadata_GENDER\", samples_metadata.\"AGE\" AS \"samples_metadata_AGE\", samples_metadata.\"WFREQ\" AS \"samples_metadata_WFREQ\", samples_metadata.\"BBTYPE\" AS \"samples_metadata_BBTYPE\", samples_metadata.\"LOCATION\" AS \"samples_metadata_LOCATION\", samples_metadata.\"COUNTRY012\" AS \"samples_metadata_COUNTRY012\", samples_metadata.\"ZIP012\" AS \"samples_metadata_ZIP012\", samples_metadata.\"COUNTRY1319\" AS \"samples_metadata_COUNTRY1319\", samples_metadata.\"ZIP1319\" AS \"samples_metadata_ZIP1319\", samples_metadata.\"DOG\" AS \"samples_metadata_DOG\", samples_metadata.\"CAT\" AS \"samples_metadata_CAT\", samples_metadata.\"IMPSURFACE013\" AS \"samples_metadata_IMPSURFACE013\", samples_metadata.\"NPP013\" AS \"samples_metadata_NPP013\", samples_metadata.\"MMAXTEMP013\" AS \"samples_metadata_MMAXTEMP013\", samples_metadata.\"PFC013\" AS \"samples_metadata_PFC013\", samples_metadata.\"IMPSURFACE1319\" AS \"samples_metadata_IMPSURFACE1319\", samples_metadata.\"NPP1319\" AS \"samples_metadata_NPP1319\", samples_metadata.\"MMAXTEMP1319\" AS \"samples_metadata_MMAXTEMP1319\", samples_metadata.\"PFC1319\" AS \"samples_metadata_PFC1319\" \n",
      "FROM samples_metadata \n",
      "WHERE samples_metadata.\"SAMPLEID\" = ?\n"
     ]
    }
   ],
   "source": [
    "results2 = session.query(Samples_meta).select_from(Samples_meta).filter(Samples_meta.SAMPLEID == 943)\n",
    "req_data = list(np.ravel(results2))\n",
    "for datum in req_data:\n",
    "    print(datum)"
   ]
  },
  {
   "cell_type": "code",
   "execution_count": null,
   "metadata": {},
   "outputs": [],
   "source": [
    "\n",
    "session.query(Engineer).\\\n",
    "    filter(Engineer.id == Employee.id).\\\n",
    "    filter(Employee.name == 'dilbert').\\\n",
    "    delete()"
   ]
  }
 ],
 "metadata": {
  "kernelspec": {
   "display_name": "Python 3",
   "language": "python",
   "name": "python3"
  },
  "language_info": {
   "codemirror_mode": {
    "name": "ipython",
    "version": 3
   },
   "file_extension": ".py",
   "mimetype": "text/x-python",
   "name": "python",
   "nbconvert_exporter": "python",
   "pygments_lexer": "ipython3",
   "version": "3.6.4"
  }
 },
 "nbformat": 4,
 "nbformat_minor": 2
}
